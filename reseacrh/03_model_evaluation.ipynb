{
 "cells": [
  {
   "cell_type": "code",
   "execution_count": 1,
   "metadata": {},
   "outputs": [],
   "source": [
    "import os\n",
    "os.chdir(\"../\")"
   ]
  },
  {
   "cell_type": "code",
   "execution_count": 2,
   "metadata": {},
   "outputs": [
    {
     "data": {
      "text/plain": [
       "'c:\\\\Projects\\\\End-to-End_Pricing'"
      ]
     },
     "execution_count": 2,
     "metadata": {},
     "output_type": "execute_result"
    }
   ],
   "source": [
    "%pwd"
   ]
  },
  {
   "cell_type": "code",
   "execution_count": 3,
   "metadata": {},
   "outputs": [],
   "source": [
    "from pathlib import Path"
   ]
  },
  {
   "cell_type": "code",
   "execution_count": 4,
   "metadata": {},
   "outputs": [],
   "source": [
    "from dataclasses import dataclass\n",
    "@dataclass(frozen=True)\n",
    "class EvaluationConfig:\n",
    "    path_of_model: Path\n",
    "    training_data: Path\n",
    "    mlflow_uri: str"
   ]
  },
  {
   "cell_type": "code",
   "execution_count": 5,
   "metadata": {},
   "outputs": [
    {
     "name": "stdout",
     "output_type": "stream",
     "text": [
      "[2024-12-27 03:20:23,288: INFO: __init__: Logging setup successful.]\n"
     ]
    }
   ],
   "source": [
    "from src.house_reg._utils.common import read_yaml,create_directories\n",
    "from src.house_reg.constant import CONFIG_PATH,PARAMS_PATH"
   ]
  },
  {
   "cell_type": "code",
   "execution_count": 6,
   "metadata": {},
   "outputs": [],
   "source": [
    "class ConfigurationManager():\n",
    "    def __init__(\n",
    "        self,\n",
    "        config_file_path= CONFIG_PATH,\n",
    "        params_file_path= PARAMS_PATH):\n",
    "\n",
    "        self.config= read_yaml(config_file_path)\n",
    "        self.params= read_yaml(params_file_path)\n",
    "\n",
    "        create_directories([self.config.artifacts_root])\n",
    "\n",
    "    def get_evaluation_config(self)-> EvaluationConfig:\n",
    "\n",
    "        eval_config=EvaluationConfig(\n",
    "            path_of_model=\"artifacts\\prepare_base_model\\model.pkl\",\n",
    "            training_data=\"artifacts\\data_ingestion\\Housing.csv\",\n",
    "            mlflow_uri=\"https://dagshub.com/harsh9769/End-to-End_Price.mlflow\")\n",
    "        \n",
    "        return eval_config"
   ]
  },
  {
   "cell_type": "code",
   "execution_count": 9,
   "metadata": {},
   "outputs": [],
   "source": [
    "import pickle\n",
    "from pathlib import Path\n",
    "import mlflow\n",
    "import dagshub\n",
    "from urllib.parse import urlparse\n",
    "import json\n",
    "\n",
    "\n",
    "class Evaluation:\n",
    "    def __init__(self, config:EvaluationConfig):\n",
    "        self.config = config\n",
    "\n",
    "    @staticmethod\n",
    "    def load_model(path):\n",
    "        \"\"\"Load a model from the given path.\"\"\"\n",
    "        with open(str(path), 'rb') as f:\n",
    "            model = pickle.load(f)\n",
    "        return model\n",
    "\n",
    "    @staticmethod\n",
    "    def load_data():\n",
    "        \"\"\"Load X_test and y_test from pre-saved files.\"\"\"\n",
    "        with open('artifacts/prepare_base_model/X_test.pkl', 'rb') as f:\n",
    "            X_test = pickle.load(f)\n",
    "        with open('artifacts/prepare_base_model/y_test.pkl', 'rb') as f:\n",
    "            y_test = pickle.load(f)\n",
    "        return X_test, y_test\n",
    "\n",
    "    def evaluation(self):\n",
    "        \"\"\"Evaluate the model on the test data and save the score.\"\"\"\n",
    "        self.model = self.load_model(r\"artifacts\\prepare_base_model\\model.pkl\")\n",
    "\n",
    "        X_test, y_test = self.load_data()\n",
    "        self.score = self.model.score(X_test, y_test)\n",
    "        self.save_score()\n",
    "\n",
    "    def save_score(self):\n",
    "        \"\"\"Save the evaluation score to a JSON file.\"\"\"\n",
    "        scores = {\"score\": self.score}\n",
    "        with open(\"scores.json\", \"w\") as f:\n",
    "            json.dump(scores, f)\n",
    "\n",
    "    def log_into_mlflow(self):\n",
    "        \"\"\"Log parameters, metrics, and the model into MLflow, using DagsHub integration.\"\"\"\n",
    "        # Initialize DagsHub integration\n",
    "        dagshub.init(\n",
    "            repo_owner='harsh9769',\n",
    "            repo_name='End-to-End_Price',\n",
    "            mlflow=True\n",
    "        )\n",
    "\n",
    "        # Start an MLflow run and log parameters and metrics\n",
    "        with mlflow.start_run():\n",
    "            mlflow.log_param('model_path', str(self.config.path_of_model))\n",
    "            mlflow.log_metric('score', self.score)\n",
    "\n"
   ]
  },
  {
   "cell_type": "code",
   "execution_count": 10,
   "metadata": {},
   "outputs": [
    {
     "name": "stdout",
     "output_type": "stream",
     "text": [
      "[2024-12-27 03:22:16,150: INFO: common: yaml file:config\\config.yaml loaded successfully]\n",
      "[2024-12-27 03:22:16,153: INFO: common: yaml file:params.yaml loaded successfully]\n",
      "[2024-12-27 03:22:16,156: INFO: common: created directory:artifacts]\n",
      "[2024-12-27 03:22:16,667: INFO: _client: HTTP Request: GET https://dagshub.com/api/v1/repos/harsh9769/End-to-End_Price \"HTTP/1.1 200 OK\"]\n"
     ]
    },
    {
     "data": {
      "text/html": [
       "<pre style=\"white-space:pre;overflow-x:auto;line-height:normal;font-family:Menlo,'DejaVu Sans Mono',consolas,'Courier New',monospace\">Initialized MLflow to track repo <span style=\"color: #008000; text-decoration-color: #008000\">\"harsh9769/End-to-End_Price\"</span>\n",
       "</pre>\n"
      ],
      "text/plain": [
       "Initialized MLflow to track repo \u001b[32m\"harsh9769/End-to-End_Price\"\u001b[0m\n"
      ]
     },
     "metadata": {},
     "output_type": "display_data"
    },
    {
     "name": "stdout",
     "output_type": "stream",
     "text": [
      "[2024-12-27 03:22:16,678: INFO: helpers: Initialized MLflow to track repo \"harsh9769/End-to-End_Price\"]\n"
     ]
    },
    {
     "data": {
      "text/html": [
       "<pre style=\"white-space:pre;overflow-x:auto;line-height:normal;font-family:Menlo,'DejaVu Sans Mono',consolas,'Courier New',monospace\">Repository harsh9769/End-to-End_Price initialized!\n",
       "</pre>\n"
      ],
      "text/plain": [
       "Repository harsh9769/End-to-End_Price initialized!\n"
      ]
     },
     "metadata": {},
     "output_type": "display_data"
    },
    {
     "name": "stdout",
     "output_type": "stream",
     "text": [
      "[2024-12-27 03:22:16,681: INFO: helpers: Repository harsh9769/End-to-End_Price initialized!]\n"
     ]
    }
   ],
   "source": [
    "try:\n",
    "    config = ConfigurationManager()\n",
    "    eval_config = config.get_evaluation_config()\n",
    "    evaluation = Evaluation(eval_config)\n",
    "    evaluation.evaluation()\n",
    "    evaluation.log_into_mlflow()\n",
    "\n",
    "except Exception as e:\n",
    "   raise e"
   ]
  },
  {
   "cell_type": "code",
   "execution_count": null,
   "metadata": {},
   "outputs": [],
   "source": [
    "\n",
    "\n",
    "\n",
    "\n"
   ]
  },
  {
   "cell_type": "code",
   "execution_count": null,
   "metadata": {},
   "outputs": [],
   "source": []
  }
 ],
 "metadata": {
  "kernelspec": {
   "display_name": "price",
   "language": "python",
   "name": "python3"
  },
  "language_info": {
   "codemirror_mode": {
    "name": "ipython",
    "version": 3
   },
   "file_extension": ".py",
   "mimetype": "text/x-python",
   "name": "python",
   "nbconvert_exporter": "python",
   "pygments_lexer": "ipython3",
   "version": "3.8.4"
  }
 },
 "nbformat": 4,
 "nbformat_minor": 2
}
